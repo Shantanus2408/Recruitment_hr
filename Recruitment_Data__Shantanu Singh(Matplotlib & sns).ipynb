{
 "cells": [
  {
   "cell_type": "code",
   "execution_count": 1,
   "id": "6da075c2",
   "metadata": {},
   "outputs": [],
   "source": [
    "#Importing the necessary libraries\n",
    "import pandas as pd\n",
    "from matplotlib import pyplot as plt\n",
    "import seaborn as sns\n",
    "import warnings\n",
    "warnings.filterwarnings('ignore')"
   ]
  },
  {
   "cell_type": "code",
   "execution_count": 2,
   "id": "5ca6e643",
   "metadata": {},
   "outputs": [],
   "source": [
    "# loading the csv as rec_hr\n",
    "rec_hr= pd.read_csv('Recruitment_Data.csv')"
   ]
  },
  {
   "cell_type": "code",
   "execution_count": 3,
   "id": "2e418847",
   "metadata": {},
   "outputs": [
    {
     "data": {
      "text/html": [
       "<div>\n",
       "<style scoped>\n",
       "    .dataframe tbody tr th:only-of-type {\n",
       "        vertical-align: middle;\n",
       "    }\n",
       "\n",
       "    .dataframe tbody tr th {\n",
       "        vertical-align: top;\n",
       "    }\n",
       "\n",
       "    .dataframe thead th {\n",
       "        text-align: right;\n",
       "    }\n",
       "</style>\n",
       "<table border=\"1\" class=\"dataframe\">\n",
       "  <thead>\n",
       "    <tr style=\"text-align: right;\">\n",
       "      <th></th>\n",
       "      <th>attrition</th>\n",
       "      <th>performance_rating</th>\n",
       "      <th>sales_quota_pct</th>\n",
       "      <th>recruiting_source</th>\n",
       "    </tr>\n",
       "  </thead>\n",
       "  <tbody>\n",
       "    <tr>\n",
       "      <th>0</th>\n",
       "      <td>1</td>\n",
       "      <td>3</td>\n",
       "      <td>1.088190</td>\n",
       "      <td>Applied Online</td>\n",
       "    </tr>\n",
       "    <tr>\n",
       "      <th>1</th>\n",
       "      <td>0</td>\n",
       "      <td>3</td>\n",
       "      <td>2.394173</td>\n",
       "      <td>NaN</td>\n",
       "    </tr>\n",
       "    <tr>\n",
       "      <th>2</th>\n",
       "      <td>1</td>\n",
       "      <td>2</td>\n",
       "      <td>0.497530</td>\n",
       "      <td>Campus</td>\n",
       "    </tr>\n",
       "    <tr>\n",
       "      <th>3</th>\n",
       "      <td>0</td>\n",
       "      <td>2</td>\n",
       "      <td>2.513958</td>\n",
       "      <td>NaN</td>\n",
       "    </tr>\n",
       "    <tr>\n",
       "      <th>4</th>\n",
       "      <td>0</td>\n",
       "      <td>3</td>\n",
       "      <td>1.424789</td>\n",
       "      <td>Applied Online</td>\n",
       "    </tr>\n",
       "  </tbody>\n",
       "</table>\n",
       "</div>"
      ],
      "text/plain": [
       "   attrition  performance_rating  sales_quota_pct recruiting_source\n",
       "0          1                   3         1.088190    Applied Online\n",
       "1          0                   3         2.394173               NaN\n",
       "2          1                   2         0.497530            Campus\n",
       "3          0                   2         2.513958               NaN\n",
       "4          0                   3         1.424789    Applied Online"
      ]
     },
     "execution_count": 3,
     "metadata": {},
     "output_type": "execute_result"
    }
   ],
   "source": [
    "rec_hr.head()"
   ]
  },
  {
   "cell_type": "code",
   "execution_count": 4,
   "id": "4a01108b",
   "metadata": {},
   "outputs": [
    {
     "data": {
      "text/plain": [
       "(446, 4)"
      ]
     },
     "execution_count": 4,
     "metadata": {},
     "output_type": "execute_result"
    }
   ],
   "source": [
    "rec_hr.shape"
   ]
  },
  {
   "cell_type": "code",
   "execution_count": 5,
   "id": "abacb1c7",
   "metadata": {},
   "outputs": [
    {
     "name": "stdout",
     "output_type": "stream",
     "text": [
      "<class 'pandas.core.frame.DataFrame'>\n",
      "RangeIndex: 446 entries, 0 to 445\n",
      "Data columns (total 4 columns):\n",
      " #   Column              Non-Null Count  Dtype  \n",
      "---  ------              --------------  -----  \n",
      " 0   attrition           446 non-null    int64  \n",
      " 1   performance_rating  446 non-null    int64  \n",
      " 2   sales_quota_pct     446 non-null    float64\n",
      " 3   recruiting_source   241 non-null    object \n",
      "dtypes: float64(1), int64(2), object(1)\n",
      "memory usage: 14.1+ KB\n"
     ]
    }
   ],
   "source": [
    "rec_hr.info()"
   ]
  },
  {
   "cell_type": "code",
   "execution_count": 6,
   "id": "1abe5cbe",
   "metadata": {},
   "outputs": [
    {
     "data": {
      "text/html": [
       "<div>\n",
       "<style scoped>\n",
       "    .dataframe tbody tr th:only-of-type {\n",
       "        vertical-align: middle;\n",
       "    }\n",
       "\n",
       "    .dataframe tbody tr th {\n",
       "        vertical-align: top;\n",
       "    }\n",
       "\n",
       "    .dataframe thead th {\n",
       "        text-align: right;\n",
       "    }\n",
       "</style>\n",
       "<table border=\"1\" class=\"dataframe\">\n",
       "  <thead>\n",
       "    <tr style=\"text-align: right;\">\n",
       "      <th></th>\n",
       "      <th>attrition</th>\n",
       "      <th>performance_rating</th>\n",
       "      <th>sales_quota_pct</th>\n",
       "    </tr>\n",
       "  </thead>\n",
       "  <tbody>\n",
       "    <tr>\n",
       "      <th>count</th>\n",
       "      <td>446.000000</td>\n",
       "      <td>446.000000</td>\n",
       "      <td>446.000000</td>\n",
       "    </tr>\n",
       "    <tr>\n",
       "      <th>mean</th>\n",
       "      <td>0.213004</td>\n",
       "      <td>2.894619</td>\n",
       "      <td>1.082607</td>\n",
       "    </tr>\n",
       "    <tr>\n",
       "      <th>std</th>\n",
       "      <td>0.409891</td>\n",
       "      <td>0.683755</td>\n",
       "      <td>0.710042</td>\n",
       "    </tr>\n",
       "    <tr>\n",
       "      <th>min</th>\n",
       "      <td>0.000000</td>\n",
       "      <td>1.000000</td>\n",
       "      <td>-0.710827</td>\n",
       "    </tr>\n",
       "    <tr>\n",
       "      <th>25%</th>\n",
       "      <td>0.000000</td>\n",
       "      <td>2.000000</td>\n",
       "      <td>0.584444</td>\n",
       "    </tr>\n",
       "    <tr>\n",
       "      <th>50%</th>\n",
       "      <td>0.000000</td>\n",
       "      <td>3.000000</td>\n",
       "      <td>1.070143</td>\n",
       "    </tr>\n",
       "    <tr>\n",
       "      <th>75%</th>\n",
       "      <td>0.000000</td>\n",
       "      <td>3.000000</td>\n",
       "      <td>1.532488</td>\n",
       "    </tr>\n",
       "    <tr>\n",
       "      <th>max</th>\n",
       "      <td>1.000000</td>\n",
       "      <td>5.000000</td>\n",
       "      <td>3.666740</td>\n",
       "    </tr>\n",
       "  </tbody>\n",
       "</table>\n",
       "</div>"
      ],
      "text/plain": [
       "        attrition  performance_rating  sales_quota_pct\n",
       "count  446.000000          446.000000       446.000000\n",
       "mean     0.213004            2.894619         1.082607\n",
       "std      0.409891            0.683755         0.710042\n",
       "min      0.000000            1.000000        -0.710827\n",
       "25%      0.000000            2.000000         0.584444\n",
       "50%      0.000000            3.000000         1.070143\n",
       "75%      0.000000            3.000000         1.532488\n",
       "max      1.000000            5.000000         3.666740"
      ]
     },
     "execution_count": 6,
     "metadata": {},
     "output_type": "execute_result"
    }
   ],
   "source": [
    "rec_hr.describe()"
   ]
  },
  {
   "cell_type": "markdown",
   "id": "2e9af661",
   "metadata": {},
   "source": [
    "Missing value"
   ]
  },
  {
   "cell_type": "code",
   "execution_count": 7,
   "id": "271a8904",
   "metadata": {},
   "outputs": [
    {
     "data": {
      "text/plain": [
       "attrition              0.000000\n",
       "performance_rating     0.000000\n",
       "sales_quota_pct        0.000000\n",
       "recruiting_source     45.964126\n",
       "dtype: float64"
      ]
     },
     "execution_count": 7,
     "metadata": {},
     "output_type": "execute_result"
    }
   ],
   "source": [
    "# finding missing value\n",
    "100*rec_hr.isnull().mean()"
   ]
  },
  {
   "cell_type": "code",
   "execution_count": 8,
   "id": "1990ff17",
   "metadata": {},
   "outputs": [],
   "source": [
    "# Drop rows where 'recruiting_source' is NaN\n",
    "rec_hr.dropna(subset=['recruiting_source'],inplace=True )"
   ]
  },
  {
   "cell_type": "code",
   "execution_count": 9,
   "id": "bd4aa530",
   "metadata": {},
   "outputs": [
    {
     "data": {
      "text/plain": [
       "attrition             0.0\n",
       "performance_rating    0.0\n",
       "sales_quota_pct       0.0\n",
       "recruiting_source     0.0\n",
       "dtype: float64"
      ]
     },
     "execution_count": 9,
     "metadata": {},
     "output_type": "execute_result"
    }
   ],
   "source": [
    "100*rec_hr.isnull().mean()"
   ]
  },
  {
   "cell_type": "code",
   "execution_count": 11,
   "id": "4fc9bbaa",
   "metadata": {},
   "outputs": [
    {
     "data": {
      "image/png": "[encoded data removed]",
      "text/plain": [
       "<Figure size 600x400 with 1 Axes>"
      ]
     },
     "metadata": {},
     "output_type": "display_data"
    }
   ],
   "source": [
    "# Count of recruiting source\n",
    "plt.figure(figsize=(6, 4))\n",
    "sns.countplot(x='recruiting_source', data=rec_hr)\n",
    "plt.title('Count of Recruiting Sources')\n",
    "plt.xlabel('Recruiting Source')\n",
    "plt.ylabel('Count')\n",
    "\n",
    "plt.show()"
   ]
  },
  {
   "cell_type": "code",
   "execution_count": 12,
   "id": "4388b0b8",
   "metadata": {
    "scrolled": false
   },
   "outputs": [
    {
     "data": {
      "image/png": "[encoded data removed]",
      "text/plain": [
       "<Figure size 600x400 with 1 Axes>"
      ]
     },
     "metadata": {},
     "output_type": "display_data"
    }
   ],
   "source": [
    "#Count of performance rating\n",
    "plt.figure(figsize=(6, 4))\n",
    "sns.countplot(x='performance_rating', data=rec_hr)\n",
    "plt.title('Count of performance rating')\n",
    "plt.xlabel('[Performance_Rating')\n",
    "plt.ylabel('Count')\n",
    "plt.xticks(rotation=45) \n",
    "\n",
    "# Display the plot\n",
    "plt.show()"
   ]
  },
  {
   "cell_type": "code",
   "execution_count": 13,
   "id": "b149bd15",
   "metadata": {},
   "outputs": [
    {
     "data": {
      "image/png": "[encoded data removed]",
      "text/plain": [
       "<Figure size 600x400 with 1 Axes>"
      ]
     },
     "metadata": {},
     "output_type": "display_data"
    }
   ],
   "source": [
    "plt.figure(figsize=(6, 4))\n",
    "sns.countplot(x='attrition', data=rec_hr)\n",
    "plt.title('Count of attrition  ')\n",
    "plt.xlabel('attrition')\n",
    "plt.ylabel('Count')\n",
    "# Display the plot\n",
    "plt.show()"
   ]
  },
  {
   "cell_type": "markdown",
   "id": "84873fe3",
   "metadata": {},
   "source": [
    "# Average sales and attrition"
   ]
  },
  {
   "cell_type": "code",
   "execution_count": 16,
   "id": "87e36d65",
   "metadata": {},
   "outputs": [],
   "source": [
    "# Group the data by recruiting_source and calculate the average of Sales Number\n",
    "avg_sales_by_source = rec_hr.groupby('recruiting_source')['sales_quota_pct'].mean()"
   ]
  },
  {
   "cell_type": "code",
   "execution_count": 17,
   "id": "8fc1cdee",
   "metadata": {},
   "outputs": [
    {
     "name": "stdout",
     "output_type": "stream",
     "text": [
      "recruiting_source\n",
      "Applied Online    1.058590\n",
      "Campus            0.908035\n",
      "Referral          1.023198\n",
      "Search Firm       0.886960\n",
      "Name: sales_quota_pct, dtype: float64\n"
     ]
    }
   ],
   "source": [
    "# print Avg_sales_number\n",
    "print(avg_sales_by_source)"
   ]
  },
  {
   "cell_type": "code",
   "execution_count": 18,
   "id": "3c912029",
   "metadata": {},
   "outputs": [],
   "source": [
    "# Group the data by recruiting_source and calculate the average of attrition\n",
    "avg_attrition_by_source = rec_hr.groupby('recruiting_source')['attrition'].mean()"
   ]
  },
  {
   "cell_type": "code",
   "execution_count": 19,
   "id": "26720851",
   "metadata": {},
   "outputs": [
    {
     "name": "stdout",
     "output_type": "stream",
     "text": [
      "recruiting_source\n",
      "Applied Online    0.246154\n",
      "Campus            0.285714\n",
      "Referral          0.333333\n",
      "Search Firm       0.500000\n",
      "Name: attrition, dtype: float64\n"
     ]
    }
   ],
   "source": [
    "# print Avg_attrition_number\n",
    "print(avg_attrition_by_source)"
   ]
  },
  {
   "cell_type": "markdown",
   "id": "bd1b5050",
   "metadata": {},
   "source": [
    "# sources that have high Sales numbers and low Attrition numbers."
   ]
  },
  {
   "cell_type": "code",
   "execution_count": 20,
   "id": "e4598329",
   "metadata": {},
   "outputs": [],
   "source": [
    "# Combine the results into a single DataFrame\n",
    "average_performance_by_source = pd.DataFrame({\n",
    "    'Average Sales': avg_sales_by_source,\n",
    "    'Average Attrition': avg_attrition_by_source\n",
    "})"
   ]
  },
  {
   "cell_type": "code",
   "execution_count": 21,
   "id": "594b3914",
   "metadata": {},
   "outputs": [],
   "source": [
    "# Sort the DataFrame by Average Sales (descending) and Average Attrition (ascending)\n",
    "sorted_performance = average_performance_by_source.sort_values(by=['Average Sales', 'Average Attrition'],\n",
    "ascending=[False, True])"
   ]
  },
  {
   "cell_type": "code",
   "execution_count": 22,
   "id": "367ed9fc",
   "metadata": {},
   "outputs": [
    {
     "name": "stdout",
     "output_type": "stream",
     "text": [
      "                   Average Sales  Average Attrition\n",
      "recruiting_source                                  \n",
      "Applied Online          1.058590           0.246154\n",
      "Referral                1.023198           0.333333\n",
      "Campus                  0.908035           0.285714\n",
      "Search Firm             0.886960           0.500000\n"
     ]
    }
   ],
   "source": [
    "print(sorted_performance)"
   ]
  },
  {
   "cell_type": "code",
   "execution_count": 23,
   "id": "71bdfe55",
   "metadata": {},
   "outputs": [],
   "source": [
    "# Find sources with high Sales numbers and low Attrition numbers\n",
    "# Define thresholds for high sales and low attrition\n",
    "high_sales_threshold = sorted_performance['Average Sales'].quantile(0.75)\n",
    "low_attrition_threshold = sorted_performance['Average Attrition'].quantile(0.25)"
   ]
  },
  {
   "cell_type": "code",
   "execution_count": 24,
   "id": "ad6da6d7",
   "metadata": {},
   "outputs": [],
   "source": [
    "# Filter sources that meet the criteria\n",
    "high_sales_low_attrition_sources = sorted_performance[\n",
    "    (sorted_performance['Average Sales'] >= high_sales_threshold) &\n",
    "    (sorted_performance['Average Attrition'] <= low_attrition_threshold)\n",
    "]"
   ]
  },
  {
   "cell_type": "code",
   "execution_count": 25,
   "id": "c6ed58f6",
   "metadata": {},
   "outputs": [
    {
     "name": "stdout",
     "output_type": "stream",
     "text": [
      "                   Average Sales  Average Attrition\n",
      "recruiting_source                                  \n",
      "Applied Online           1.05859           0.246154\n"
     ]
    }
   ],
   "source": [
    "#print the sources that have high Sales numbers and low Attrition numbers.\n",
    "print(high_sales_low_attrition_sources)"
   ]
  },
  {
   "cell_type": "markdown",
   "id": "9e4c7a95",
   "metadata": {},
   "source": [
    "Applied Online sources have high Sales numbers and low Attrition numbers."
   ]
  },
  {
   "cell_type": "markdown",
   "id": "ddba7599",
   "metadata": {},
   "source": [
    "# EDA"
   ]
  },
  {
   "cell_type": "code",
   "execution_count": 26,
   "id": "7868b808",
   "metadata": {},
   "outputs": [],
   "source": [
    "# Assuming avg_attrition_by_source is a Series, convert it to a DataFrame\n",
    "avg_attrition_by_source_df = avg_attrition_by_source.reset_index()"
   ]
  },
  {
   "cell_type": "code",
   "execution_count": 27,
   "id": "88e21c76",
   "metadata": {},
   "outputs": [
    {
     "data": {
      "image/png": "[encoded data removed]",
      "text/plain": [
       "<Figure size 600x400 with 1 Axes>"
      ]
     },
     "metadata": {},
     "output_type": "display_data"
    }
   ],
   "source": [
    "# Plotting attrition\n",
    "plt.figure(figsize=(6, 4))\n",
    "sns.barplot(x='recruiting_source', y='attrition', data=avg_attrition_by_source_df)\n",
    "plt.title('Attrition Differences Based on Recruiting Sources')\n",
    "plt.xlabel('Recruiting Source')\n",
    "plt.ylabel('Attrition Numbers')\n",
    "plt.show()"
   ]
  },
  {
   "cell_type": "markdown",
   "id": "c39dea29",
   "metadata": {},
   "source": [
    "Applied Online and Campus recruitment show lower attrition rates, making them the best sources for stable retention. While Search Firm show highest attrition that indicates they are the least stable source."
   ]
  },
  {
   "cell_type": "code",
   "execution_count": 28,
   "id": "8d2211f4",
   "metadata": {},
   "outputs": [],
   "source": [
    "# Assuming avg_sales_by_source is a Series, convert it to a DataFrame\n",
    "avg_sales_by_source_df = avg_sales_by_source.reset_index()"
   ]
  },
  {
   "cell_type": "code",
   "execution_count": 29,
   "id": "1a11b58b",
   "metadata": {},
   "outputs": [
    {
     "data": {
      "image/png": "[encoded data removed]",
      "text/plain": [
       "<Figure size 600x400 with 1 Axes>"
      ]
     },
     "metadata": {},
     "output_type": "display_data"
    }
   ],
   "source": [
    "# Plotting sales difference\n",
    "plt.figure(figsize=(6, 4))\n",
    "sns.barplot(x='recruiting_source', y='sales_quota_pct', data=avg_sales_by_source_df)\n",
    "plt.title('sales Differences Based on Recruiting Sources')\n",
    "plt.xlabel('Recruiting Source')\n",
    "plt.ylabel('Attrition Numbers')\n",
    "plt.show()"
   ]
  },
  {
   "cell_type": "markdown",
   "id": "ab43bdc0",
   "metadata": {},
   "source": [
    "Applied Online and Referral shows the highest average sales performance. This suggests that these recruiting sources are effective in bringing in high-performing sales employees."
   ]
  },
  {
   "cell_type": "markdown",
   "id": "322d2a12",
   "metadata": {},
   "source": [
    "Campus and Search Firm shows slightly lower average sales performance compared to Applied Online and Referral. However their performance is still strong, indicating that they are also valuable recruiting sources."
   ]
  },
  {
   "cell_type": "code",
   "execution_count": null,
   "id": "65061c10",
   "metadata": {},
   "outputs": [],
   "source": []
  }
 ],
 "metadata": {
  "kernelspec": {
   "display_name": "Python 3 (ipykernel)",
   "language": "python",
   "name": "python3"
  },
  "language_info": {
   "codemirror_mode": {
    "name": "ipython",
    "version": 3
   },
   "file_extension": ".py",
   "mimetype": "text/x-python",
   "name": "python",
   "nbconvert_exporter": "python",
   "pygments_lexer": "ipython3",
   "version": "3.11.5"
  }
 },
 "nbformat": 4,
 "nbformat_minor": 5
}
